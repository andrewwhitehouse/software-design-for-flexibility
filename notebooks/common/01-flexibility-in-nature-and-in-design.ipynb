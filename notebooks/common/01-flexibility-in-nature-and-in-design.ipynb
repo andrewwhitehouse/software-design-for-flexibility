{
 "cells": [
  {
   "cell_type": "markdown",
   "id": "sufficient-percentage",
   "metadata": {},
   "source": [
    "# Flexibility in Nature and Design"
   ]
  },
  {
   "cell_type": "markdown",
   "id": "talented-skating",
   "metadata": {},
   "source": [
    "We have been designing software to do particular jobs very well, as an extension of past engineering practice."
   ]
  },
  {
   "cell_type": "markdown",
   "id": "improved-april",
   "metadata": {},
   "source": [
    "Eacy piece of software is designed to do a relatively narrow job. As the problem to be solved changes, the software must be changed. But small changes to the problem do not often entail only small changes to the software. Software is designed too tightly for there to be much flexibility. As a consequence, systems cannot evole gracefully. They are brittle and must be replaced with entirely new designs as the problem domain changes. This is slow and expensive. "
   ]
  },
  {
   "cell_type": "markdown",
   "id": "ignored-kitchen",
   "metadata": {},
   "source": [
    "Our engineering systems do not have to be brittle. The Internet has been extended from a small system to one of global scale. Our cities evolve organically, to accommodate new business models, life styles, and means of transportation and communication. [From] observation of biological systems we see that it is possible to build systems that can be adapted to changes in the environment both individually and as an evolutionary ensemble. Why is this not the way we deisgn and build most software?"
   ]
  },
  {
   "cell_type": "markdown",
   "id": "broad-cannon",
   "metadata": {},
   "source": [
    "There are historical reasons, but the main reason is that we don't know how to do this generally. At this moment it is an accident if a system turns out to be robust in the face of changes in requirements."
   ]
  },
  {
   "cell_type": "markdown",
   "id": "pleasant-documentation",
   "metadata": {},
   "source": [
    "## Additive Programming"
   ]
  },
  {
   "cell_type": "markdown",
   "id": "comic-concern",
   "metadata": {},
   "source": [
    "Our goal is to investigate how to construct computation systems so that they can be easily adapted to changing requirements. "
   ]
  },
  {
   "cell_type": "markdown",
   "id": "operational-bahrain",
   "metadata": {},
   "source": [
    "One should not have to modify a working programme. One should be able to add to it to implement new functionality or to adjust old functions for new requirements. We call this _additive programming_."
   ]
  },
  {
   "cell_type": "markdown",
   "id": "specific-discussion",
   "metadata": {},
   "source": [
    "We explore techniques to add functionality to an existing programme without breaking it. Our techniques do not guarantee that the additions are correct: the additions must themselves be debugged; but they should not damage existing functionality accidentally."
   ]
  },
  {
   "cell_type": "markdown",
   "id": "fifth-current",
   "metadata": {},
   "source": [
    "In order for additive programmng to be possible, it is necessary to minimize the assumptions about how a programme works and how it will be used. Assumptions made during the design and construction oa a programme may reduce the possible future extensions of the programme. Instead of making these assumptions, we build our programme to make just-in-time decisions based on the environment that the programme is running in. \n"
   ]
  },
  {
   "cell_type": "markdown",
   "id": "junior-development",
   "metadata": {},
   "source": [
    "We can combien programmes to get the uion of the behaviour that each supports. But we want the whole to be more than the sum of its parts; we want the parts of the combined system to cooperate to give the system capabilities that no one part can provide by itself. But there are tradeoffs here: the parts that we combine to make a system must sharply separate concerns. If a part does one thing extremely well, it is easier to reuse, and also easier to debug, than one that combines several disparate capabilities. \n"
   ]
  },
  {
   "cell_type": "markdown",
   "id": "plain-lyric",
   "metadata": {},
   "source": [
    "To facilitate additive programming it is necessary that the parts we build be as simple and general as we can make them."
   ]
  },
  {
   "cell_type": "markdown",
   "id": "hundred-verse",
   "metadata": {},
   "source": [
    "For example, a part that accepts a wider range of inputs than is strictly necessary for the problem at hand will have a wider applicability than one that doesn't. _[But how do we identify what the appropriate requirements to avoid adding unnecessary complexity?]_ It is important to choose the right abstracion level for our parts, by identifying the _domain_ of discourse for the family and then building the family for that domain. We start consideration of these requiremtns in chapter 2."
   ]
  },
  {
   "cell_type": "markdown",
   "id": "fresh-poster",
   "metadata": {},
   "source": [
    "_For maximum flexibility, the range of outputs of a part should be quite small and well defined -- much smaller than the range of acceptable inputs for any part that might receive that output._ [See [Postel's Law](https://en.wikipedia.org/wiki/Robustness_principle).]"
   ]
  },
  {
   "cell_type": "markdown",
   "id": "boring-exclusive",
   "metadata": {},
   "source": [
    "Using more generl parts than appear to be necessary builds a degree of flexibility into the entire structure of our systems. Small perturbations of the requirements can be tolerated, because every component is build to accept perturbed (noisy) inputs."
   ]
  },
  {
   "cell_type": "markdown",
   "id": "removable-pasta",
   "metadata": {},
   "source": [
    "A family of mix-and-match parts fo a particular domain of discourse is the foundation of a _domain-specific language_. Often the best way to attack a family of hard problems is to make a language -- a set of primitives, means of combination, and means of abstraction -- that makes the solutions for those problems easy to express. _[We can apply this abstraction at the code level, or at a higher level such as REST APIs.]_"
   ]
  },
  {
   "cell_type": "markdown",
   "id": "civilian-family",
   "metadata": {},
   "source": [
    "One strategy for enhancing flexibility [...] is _generic dispatch_. We will explore this extensively in chapter 3. Generic dispatch is often a useful way to extend the applicability of a procedure by adding additional handlers (methods) based on details of the arguments passed to the procedure. By requiring handlers to respond to disjoint sets of arhumnts, we can avoid breaking an existing programme when a new handler is added. However, unlike the generic dispatch in the typical object-oriented programming context, our generic dispatch doesn't involve ideas like classes, instances, and inheritance. _These weaken the separation of concepts by introducing spurious ontological commitments._"
   ]
  },
  {
   "cell_type": "markdown",
   "id": "found-retro",
   "metadata": {},
   "source": [
    "A quite different strategy, to be explored in chapter 6, is to _layer_ both data and procedures. This exploits the idea that data usually has associated metadata that can be processed alongside the data. For example, numerical data often has associated units. "
   ]
  },
  {
   "cell_type": "markdown",
   "id": "considered-affect",
   "metadata": {},
   "source": [
    "We cn also build systems that combine multiple sources of _partial information_ to obtain more complete answers. This is most powerful when the contributions come from independent sources of information. In chapter 4 we will see how type inference is really a matter of combining multiple sources of partial information. Locally deducible clues about the type of a value, for example that a numerical comparison requires numerical inputs and produces a boolean output, can be combined with other local type constraints to produce nonlocal type constraints."
   ]
  },
  {
   "cell_type": "markdown",
   "id": "funny-omega",
   "metadata": {},
   "source": [
    "In chapter 7 we introduce the idea of using _degeneracy_: having multiple ways to compute something, which can be combined or modulated as needed. There are many valuable uses for degeneracy, including error detection, performance management, and intrusion detection. Importantly, degeneracy is also additive: each contributing part is self-contained and can produce a result by itslef. One interesting use of degeneracy is to dynamically select from different implementations of an algorithm depending on context. This avoids the need to make assumptions about how the implementation will be used."
   ]
  },
  {
   "cell_type": "markdown",
   "id": "average-atmosphere",
   "metadata": {},
   "source": [
    "Design and construction for flexibility has definite costs. A procedure that can take a greater variety of inputs than are necessaryfor solving the current problem will have more code than absolutely necessary and will take more thinking by the programmer than absolutely necessary. The same goes for generic dispatch, layering, and degeneracy, each of whcih involves constant over-heads in memory space, compute time, and/or programmer time."
   ]
  },
  {
   "cell_type": "markdown",
   "id": "understood-boundary",
   "metadata": {},
   "source": [
    "**But the principal cost of software is the time spent by programmers over the lifetime of the product**, including maintenance and adaptations that are needed for changing requirements. Designs that minimize rewriting and refactoring reduce the overall costs to the incremental additions rather than complete rewrites. In other words, long-term costs are additive rather than multiplicative."
   ]
  },
  {
   "cell_type": "code",
   "execution_count": null,
   "id": "civil-invention",
   "metadata": {},
   "outputs": [],
   "source": []
  }
 ],
 "metadata": {
  "kernelspec": {
   "display_name": "Clojure (clojupyter-0.3.2)",
   "language": "clojure",
   "name": "clojupyter-0.3.2"
  },
  "language_info": {
   "file_extension": ".clj",
   "mimetype": "text/x-clojure",
   "name": "clojure",
   "version": "1.10.1"
  }
 },
 "nbformat": 4,
 "nbformat_minor": 5
}
